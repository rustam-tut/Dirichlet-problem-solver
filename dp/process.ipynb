{
 "cells": [
  {
   "cell_type": "code",
   "execution_count": 1,
   "metadata": {},
   "outputs": [],
   "source": [
    "from dirichlet import method\n",
    "import numpy as np\n",
    "%matplotlib tk\n"
   ]
  },
  {
   "cell_type": "code",
   "execution_count": 2,
   "metadata": {},
   "outputs": [],
   "source": [
    "f = lambda x, y: -(-np.pi ** 2 * np.sin(np.pi * x / 3) * np.sin(np.pi * y / 3))\n",
    "u = lambda x, y: (9 / 2) * np.sin(np.pi * x / 3) * np.sin(np.pi * y / 3)\n",
    "g = lambda x, y: (9 / 2) * np.sin(np.pi * x / 3) * np.sin(np.pi * y / 3)\n",
    "\n",
    "a1 = 0\n",
    "a2 = 3\n",
    "b1 = 0\n",
    "b2 = 3\n",
    "Nx = 11\n",
    "Ny = 11\n"
   ]
  },
  {
   "cell_type": "code",
   "execution_count": 5,
   "metadata": {},
   "outputs": [
    {
     "name": "stdout",
     "output_type": "stream",
     "text": [
      "11 11\n",
      "Апостериорная погрешность: 9.85256475101477e-15\n",
      "Погрешность точного и численного решений: 0.18597188173995197\n",
      "Итераций: 646\n"
     ]
    }
   ],
   "source": [
    "ds = method.JacobiSolver(u, f, g, a1, a2, b1, b2)\n",
    "ds.solve(10)"
   ]
  },
  {
   "cell_type": "code",
   "execution_count": 8,
   "metadata": {},
   "outputs": [
    {
     "name": "stdout",
     "output_type": "stream",
     "text": [
      "16\n"
     ]
    }
   ],
   "source": [
    "t = 10\n",
    "print(int(t*1.5))"
   ]
  }
 ],
 "metadata": {
  "kernelspec": {
   "display_name": "Python 3",
   "language": "python",
   "name": "python3"
  },
  "language_info": {
   "codemirror_mode": {
    "name": "ipython",
    "version": 3
   },
   "file_extension": ".py",
   "mimetype": "text/x-python",
   "name": "python",
   "nbconvert_exporter": "python",
   "pygments_lexer": "ipython3",
   "version": "3.12.0"
  }
 },
 "nbformat": 4,
 "nbformat_minor": 2
}
